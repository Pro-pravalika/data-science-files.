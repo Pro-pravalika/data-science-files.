{
 "cells": [
  {
   "cell_type": "code",
   "execution_count": 1,
   "id": "d828d2a6",
   "metadata": {},
   "outputs": [],
   "source": [
    "import pandas as pd\n",
    "import seaborn as sns\n",
    "import matplotlib.pyplot as plt\n",
    "import numpy as np"
   ]
  },
  {
   "cell_type": "code",
   "execution_count": 2,
   "id": "1c47bbfe",
   "metadata": {},
   "outputs": [],
   "source": [
    "df = pd.read_csv(\"https://hastie.su.domains/ElemStatLearn/datasets/SAheart.data\")"
   ]
  },
  {
   "cell_type": "code",
   "execution_count": 3,
   "id": "e260fa1a",
   "metadata": {},
   "outputs": [
    {
     "data": {
      "text/html": [
       "<div>\n",
       "<style scoped>\n",
       "    .dataframe tbody tr th:only-of-type {\n",
       "        vertical-align: middle;\n",
       "    }\n",
       "\n",
       "    .dataframe tbody tr th {\n",
       "        vertical-align: top;\n",
       "    }\n",
       "\n",
       "    .dataframe thead th {\n",
       "        text-align: right;\n",
       "    }\n",
       "</style>\n",
       "<table border=\"1\" class=\"dataframe\">\n",
       "  <thead>\n",
       "    <tr style=\"text-align: right;\">\n",
       "      <th></th>\n",
       "      <th>row.names</th>\n",
       "      <th>sbp</th>\n",
       "      <th>tobacco</th>\n",
       "      <th>ldl</th>\n",
       "      <th>adiposity</th>\n",
       "      <th>famhist</th>\n",
       "      <th>typea</th>\n",
       "      <th>obesity</th>\n",
       "      <th>alcohol</th>\n",
       "      <th>age</th>\n",
       "      <th>chd</th>\n",
       "    </tr>\n",
       "  </thead>\n",
       "  <tbody>\n",
       "    <tr>\n",
       "      <th>0</th>\n",
       "      <td>1</td>\n",
       "      <td>160</td>\n",
       "      <td>12.00</td>\n",
       "      <td>5.73</td>\n",
       "      <td>23.11</td>\n",
       "      <td>Present</td>\n",
       "      <td>49</td>\n",
       "      <td>25.30</td>\n",
       "      <td>97.20</td>\n",
       "      <td>52</td>\n",
       "      <td>1</td>\n",
       "    </tr>\n",
       "    <tr>\n",
       "      <th>1</th>\n",
       "      <td>2</td>\n",
       "      <td>144</td>\n",
       "      <td>0.01</td>\n",
       "      <td>4.41</td>\n",
       "      <td>28.61</td>\n",
       "      <td>Absent</td>\n",
       "      <td>55</td>\n",
       "      <td>28.87</td>\n",
       "      <td>2.06</td>\n",
       "      <td>63</td>\n",
       "      <td>1</td>\n",
       "    </tr>\n",
       "    <tr>\n",
       "      <th>2</th>\n",
       "      <td>3</td>\n",
       "      <td>118</td>\n",
       "      <td>0.08</td>\n",
       "      <td>3.48</td>\n",
       "      <td>32.28</td>\n",
       "      <td>Present</td>\n",
       "      <td>52</td>\n",
       "      <td>29.14</td>\n",
       "      <td>3.81</td>\n",
       "      <td>46</td>\n",
       "      <td>0</td>\n",
       "    </tr>\n",
       "    <tr>\n",
       "      <th>3</th>\n",
       "      <td>4</td>\n",
       "      <td>170</td>\n",
       "      <td>7.50</td>\n",
       "      <td>6.41</td>\n",
       "      <td>38.03</td>\n",
       "      <td>Present</td>\n",
       "      <td>51</td>\n",
       "      <td>31.99</td>\n",
       "      <td>24.26</td>\n",
       "      <td>58</td>\n",
       "      <td>1</td>\n",
       "    </tr>\n",
       "    <tr>\n",
       "      <th>4</th>\n",
       "      <td>5</td>\n",
       "      <td>134</td>\n",
       "      <td>13.60</td>\n",
       "      <td>3.50</td>\n",
       "      <td>27.78</td>\n",
       "      <td>Present</td>\n",
       "      <td>60</td>\n",
       "      <td>25.99</td>\n",
       "      <td>57.34</td>\n",
       "      <td>49</td>\n",
       "      <td>1</td>\n",
       "    </tr>\n",
       "    <tr>\n",
       "      <th>...</th>\n",
       "      <td>...</td>\n",
       "      <td>...</td>\n",
       "      <td>...</td>\n",
       "      <td>...</td>\n",
       "      <td>...</td>\n",
       "      <td>...</td>\n",
       "      <td>...</td>\n",
       "      <td>...</td>\n",
       "      <td>...</td>\n",
       "      <td>...</td>\n",
       "      <td>...</td>\n",
       "    </tr>\n",
       "    <tr>\n",
       "      <th>457</th>\n",
       "      <td>459</td>\n",
       "      <td>214</td>\n",
       "      <td>0.40</td>\n",
       "      <td>5.98</td>\n",
       "      <td>31.72</td>\n",
       "      <td>Absent</td>\n",
       "      <td>64</td>\n",
       "      <td>28.45</td>\n",
       "      <td>0.00</td>\n",
       "      <td>58</td>\n",
       "      <td>0</td>\n",
       "    </tr>\n",
       "    <tr>\n",
       "      <th>458</th>\n",
       "      <td>460</td>\n",
       "      <td>182</td>\n",
       "      <td>4.20</td>\n",
       "      <td>4.41</td>\n",
       "      <td>32.10</td>\n",
       "      <td>Absent</td>\n",
       "      <td>52</td>\n",
       "      <td>28.61</td>\n",
       "      <td>18.72</td>\n",
       "      <td>52</td>\n",
       "      <td>1</td>\n",
       "    </tr>\n",
       "    <tr>\n",
       "      <th>459</th>\n",
       "      <td>461</td>\n",
       "      <td>108</td>\n",
       "      <td>3.00</td>\n",
       "      <td>1.59</td>\n",
       "      <td>15.23</td>\n",
       "      <td>Absent</td>\n",
       "      <td>40</td>\n",
       "      <td>20.09</td>\n",
       "      <td>26.64</td>\n",
       "      <td>55</td>\n",
       "      <td>0</td>\n",
       "    </tr>\n",
       "    <tr>\n",
       "      <th>460</th>\n",
       "      <td>462</td>\n",
       "      <td>118</td>\n",
       "      <td>5.40</td>\n",
       "      <td>11.61</td>\n",
       "      <td>30.79</td>\n",
       "      <td>Absent</td>\n",
       "      <td>64</td>\n",
       "      <td>27.35</td>\n",
       "      <td>23.97</td>\n",
       "      <td>40</td>\n",
       "      <td>0</td>\n",
       "    </tr>\n",
       "    <tr>\n",
       "      <th>461</th>\n",
       "      <td>463</td>\n",
       "      <td>132</td>\n",
       "      <td>0.00</td>\n",
       "      <td>4.82</td>\n",
       "      <td>33.41</td>\n",
       "      <td>Present</td>\n",
       "      <td>62</td>\n",
       "      <td>14.70</td>\n",
       "      <td>0.00</td>\n",
       "      <td>46</td>\n",
       "      <td>1</td>\n",
       "    </tr>\n",
       "  </tbody>\n",
       "</table>\n",
       "<p>462 rows × 11 columns</p>\n",
       "</div>"
      ],
      "text/plain": [
       "     row.names  sbp  tobacco    ldl  adiposity  famhist  typea  obesity  \\\n",
       "0            1  160    12.00   5.73      23.11  Present     49    25.30   \n",
       "1            2  144     0.01   4.41      28.61   Absent     55    28.87   \n",
       "2            3  118     0.08   3.48      32.28  Present     52    29.14   \n",
       "3            4  170     7.50   6.41      38.03  Present     51    31.99   \n",
       "4            5  134    13.60   3.50      27.78  Present     60    25.99   \n",
       "..         ...  ...      ...    ...        ...      ...    ...      ...   \n",
       "457        459  214     0.40   5.98      31.72   Absent     64    28.45   \n",
       "458        460  182     4.20   4.41      32.10   Absent     52    28.61   \n",
       "459        461  108     3.00   1.59      15.23   Absent     40    20.09   \n",
       "460        462  118     5.40  11.61      30.79   Absent     64    27.35   \n",
       "461        463  132     0.00   4.82      33.41  Present     62    14.70   \n",
       "\n",
       "     alcohol  age  chd  \n",
       "0      97.20   52    1  \n",
       "1       2.06   63    1  \n",
       "2       3.81   46    0  \n",
       "3      24.26   58    1  \n",
       "4      57.34   49    1  \n",
       "..       ...  ...  ...  \n",
       "457     0.00   58    0  \n",
       "458    18.72   52    1  \n",
       "459    26.64   55    0  \n",
       "460    23.97   40    0  \n",
       "461     0.00   46    1  \n",
       "\n",
       "[462 rows x 11 columns]"
      ]
     },
     "execution_count": 3,
     "metadata": {},
     "output_type": "execute_result"
    }
   ],
   "source": [
    "df"
   ]
  },
  {
   "cell_type": "code",
   "execution_count": 4,
   "id": "b696c315",
   "metadata": {},
   "outputs": [
    {
     "data": {
      "text/plain": [
       "Index(['row.names', 'sbp', 'tobacco', 'ldl', 'adiposity', 'famhist', 'typea',\n",
       "       'obesity', 'alcohol', 'age', 'chd'],\n",
       "      dtype='object')"
      ]
     },
     "execution_count": 4,
     "metadata": {},
     "output_type": "execute_result"
    }
   ],
   "source": [
    "df.columns"
   ]
  },
  {
   "cell_type": "markdown",
   "id": "91460c31",
   "metadata": {},
   "source": [
    "    sbp - Systolic blood pressure\n",
    "    tobacco - Cumulative tobacco(kg)\n",
    "    ldl - Low density lipoprotein cholesterol\n",
    "    adiposity - \n",
    "    famhist - Family history of heart disease(Present Absent)\n",
    "    typea - Type-A-behaviour\n",
    "    obesity - \n",
    "    alcohol - Current alcohol consumption\n",
    "    age - Age at onset\n",
    "    chd - Response coronary heart disease"
   ]
  },
  {
   "cell_type": "code",
   "execution_count": 5,
   "id": "91634186",
   "metadata": {},
   "outputs": [
    {
     "data": {
      "text/plain": [
       "0      52\n",
       "1      63\n",
       "2      46\n",
       "3      58\n",
       "4      49\n",
       "       ..\n",
       "457    58\n",
       "458    52\n",
       "459    55\n",
       "460    40\n",
       "461    46\n",
       "Name: age, Length: 462, dtype: int64"
      ]
     },
     "execution_count": 5,
     "metadata": {},
     "output_type": "execute_result"
    }
   ],
   "source": [
    "df.age"
   ]
  },
  {
   "cell_type": "code",
   "execution_count": 6,
   "id": "3b2896b0",
   "metadata": {},
   "outputs": [
    {
     "data": {
      "text/html": [
       "<div>\n",
       "<style scoped>\n",
       "    .dataframe tbody tr th:only-of-type {\n",
       "        vertical-align: middle;\n",
       "    }\n",
       "\n",
       "    .dataframe tbody tr th {\n",
       "        vertical-align: top;\n",
       "    }\n",
       "\n",
       "    .dataframe thead th {\n",
       "        text-align: right;\n",
       "    }\n",
       "</style>\n",
       "<table border=\"1\" class=\"dataframe\">\n",
       "  <thead>\n",
       "    <tr style=\"text-align: right;\">\n",
       "      <th></th>\n",
       "      <th>row.names</th>\n",
       "      <th>sbp</th>\n",
       "      <th>tobacco</th>\n",
       "      <th>ldl</th>\n",
       "      <th>adiposity</th>\n",
       "      <th>famhist</th>\n",
       "      <th>typea</th>\n",
       "      <th>obesity</th>\n",
       "      <th>alcohol</th>\n",
       "      <th>age</th>\n",
       "      <th>chd</th>\n",
       "    </tr>\n",
       "  </thead>\n",
       "  <tbody>\n",
       "    <tr>\n",
       "      <th>0</th>\n",
       "      <td>1</td>\n",
       "      <td>160</td>\n",
       "      <td>12.00</td>\n",
       "      <td>5.73</td>\n",
       "      <td>23.11</td>\n",
       "      <td>Present</td>\n",
       "      <td>49</td>\n",
       "      <td>25.30</td>\n",
       "      <td>97.20</td>\n",
       "      <td>52</td>\n",
       "      <td>1</td>\n",
       "    </tr>\n",
       "    <tr>\n",
       "      <th>2</th>\n",
       "      <td>3</td>\n",
       "      <td>118</td>\n",
       "      <td>0.08</td>\n",
       "      <td>3.48</td>\n",
       "      <td>32.28</td>\n",
       "      <td>Present</td>\n",
       "      <td>52</td>\n",
       "      <td>29.14</td>\n",
       "      <td>3.81</td>\n",
       "      <td>46</td>\n",
       "      <td>0</td>\n",
       "    </tr>\n",
       "    <tr>\n",
       "      <th>3</th>\n",
       "      <td>4</td>\n",
       "      <td>170</td>\n",
       "      <td>7.50</td>\n",
       "      <td>6.41</td>\n",
       "      <td>38.03</td>\n",
       "      <td>Present</td>\n",
       "      <td>51</td>\n",
       "      <td>31.99</td>\n",
       "      <td>24.26</td>\n",
       "      <td>58</td>\n",
       "      <td>1</td>\n",
       "    </tr>\n",
       "    <tr>\n",
       "      <th>4</th>\n",
       "      <td>5</td>\n",
       "      <td>134</td>\n",
       "      <td>13.60</td>\n",
       "      <td>3.50</td>\n",
       "      <td>27.78</td>\n",
       "      <td>Present</td>\n",
       "      <td>60</td>\n",
       "      <td>25.99</td>\n",
       "      <td>57.34</td>\n",
       "      <td>49</td>\n",
       "      <td>1</td>\n",
       "    </tr>\n",
       "    <tr>\n",
       "      <th>5</th>\n",
       "      <td>6</td>\n",
       "      <td>132</td>\n",
       "      <td>6.20</td>\n",
       "      <td>6.47</td>\n",
       "      <td>36.21</td>\n",
       "      <td>Present</td>\n",
       "      <td>62</td>\n",
       "      <td>30.77</td>\n",
       "      <td>14.14</td>\n",
       "      <td>45</td>\n",
       "      <td>0</td>\n",
       "    </tr>\n",
       "    <tr>\n",
       "      <th>...</th>\n",
       "      <td>...</td>\n",
       "      <td>...</td>\n",
       "      <td>...</td>\n",
       "      <td>...</td>\n",
       "      <td>...</td>\n",
       "      <td>...</td>\n",
       "      <td>...</td>\n",
       "      <td>...</td>\n",
       "      <td>...</td>\n",
       "      <td>...</td>\n",
       "      <td>...</td>\n",
       "    </tr>\n",
       "    <tr>\n",
       "      <th>449</th>\n",
       "      <td>451</td>\n",
       "      <td>144</td>\n",
       "      <td>4.00</td>\n",
       "      <td>5.03</td>\n",
       "      <td>25.78</td>\n",
       "      <td>Present</td>\n",
       "      <td>57</td>\n",
       "      <td>27.55</td>\n",
       "      <td>90.00</td>\n",
       "      <td>48</td>\n",
       "      <td>1</td>\n",
       "    </tr>\n",
       "    <tr>\n",
       "      <th>452</th>\n",
       "      <td>454</td>\n",
       "      <td>154</td>\n",
       "      <td>5.53</td>\n",
       "      <td>3.20</td>\n",
       "      <td>28.81</td>\n",
       "      <td>Present</td>\n",
       "      <td>61</td>\n",
       "      <td>26.15</td>\n",
       "      <td>42.79</td>\n",
       "      <td>42</td>\n",
       "      <td>0</td>\n",
       "    </tr>\n",
       "    <tr>\n",
       "      <th>453</th>\n",
       "      <td>455</td>\n",
       "      <td>124</td>\n",
       "      <td>1.60</td>\n",
       "      <td>7.22</td>\n",
       "      <td>39.68</td>\n",
       "      <td>Present</td>\n",
       "      <td>36</td>\n",
       "      <td>31.50</td>\n",
       "      <td>0.00</td>\n",
       "      <td>51</td>\n",
       "      <td>1</td>\n",
       "    </tr>\n",
       "    <tr>\n",
       "      <th>456</th>\n",
       "      <td>458</td>\n",
       "      <td>170</td>\n",
       "      <td>0.40</td>\n",
       "      <td>4.11</td>\n",
       "      <td>42.06</td>\n",
       "      <td>Present</td>\n",
       "      <td>56</td>\n",
       "      <td>33.10</td>\n",
       "      <td>2.06</td>\n",
       "      <td>57</td>\n",
       "      <td>0</td>\n",
       "    </tr>\n",
       "    <tr>\n",
       "      <th>461</th>\n",
       "      <td>463</td>\n",
       "      <td>132</td>\n",
       "      <td>0.00</td>\n",
       "      <td>4.82</td>\n",
       "      <td>33.41</td>\n",
       "      <td>Present</td>\n",
       "      <td>62</td>\n",
       "      <td>14.70</td>\n",
       "      <td>0.00</td>\n",
       "      <td>46</td>\n",
       "      <td>1</td>\n",
       "    </tr>\n",
       "  </tbody>\n",
       "</table>\n",
       "<p>192 rows × 11 columns</p>\n",
       "</div>"
      ],
      "text/plain": [
       "     row.names  sbp  tobacco   ldl  adiposity  famhist  typea  obesity  \\\n",
       "0            1  160    12.00  5.73      23.11  Present     49    25.30   \n",
       "2            3  118     0.08  3.48      32.28  Present     52    29.14   \n",
       "3            4  170     7.50  6.41      38.03  Present     51    31.99   \n",
       "4            5  134    13.60  3.50      27.78  Present     60    25.99   \n",
       "5            6  132     6.20  6.47      36.21  Present     62    30.77   \n",
       "..         ...  ...      ...   ...        ...      ...    ...      ...   \n",
       "449        451  144     4.00  5.03      25.78  Present     57    27.55   \n",
       "452        454  154     5.53  3.20      28.81  Present     61    26.15   \n",
       "453        455  124     1.60  7.22      39.68  Present     36    31.50   \n",
       "456        458  170     0.40  4.11      42.06  Present     56    33.10   \n",
       "461        463  132     0.00  4.82      33.41  Present     62    14.70   \n",
       "\n",
       "     alcohol  age  chd  \n",
       "0      97.20   52    1  \n",
       "2       3.81   46    0  \n",
       "3      24.26   58    1  \n",
       "4      57.34   49    1  \n",
       "5      14.14   45    0  \n",
       "..       ...  ...  ...  \n",
       "449    90.00   48    1  \n",
       "452    42.79   42    0  \n",
       "453     0.00   51    1  \n",
       "456     2.06   57    0  \n",
       "461     0.00   46    1  \n",
       "\n",
       "[192 rows x 11 columns]"
      ]
     },
     "execution_count": 6,
     "metadata": {},
     "output_type": "execute_result"
    }
   ],
   "source": [
    "df[df[\"famhist\"] == \"Present\"]"
   ]
  },
  {
   "cell_type": "code",
   "execution_count": 7,
   "id": "d67bd72d",
   "metadata": {},
   "outputs": [
    {
     "data": {
      "text/html": [
       "<div>\n",
       "<style scoped>\n",
       "    .dataframe tbody tr th:only-of-type {\n",
       "        vertical-align: middle;\n",
       "    }\n",
       "\n",
       "    .dataframe tbody tr th {\n",
       "        vertical-align: top;\n",
       "    }\n",
       "\n",
       "    .dataframe thead th {\n",
       "        text-align: right;\n",
       "    }\n",
       "</style>\n",
       "<table border=\"1\" class=\"dataframe\">\n",
       "  <thead>\n",
       "    <tr style=\"text-align: right;\">\n",
       "      <th></th>\n",
       "      <th>row.names</th>\n",
       "      <th>sbp</th>\n",
       "      <th>tobacco</th>\n",
       "      <th>ldl</th>\n",
       "      <th>adiposity</th>\n",
       "      <th>famhist</th>\n",
       "      <th>typea</th>\n",
       "      <th>obesity</th>\n",
       "      <th>alcohol</th>\n",
       "      <th>age</th>\n",
       "      <th>chd</th>\n",
       "    </tr>\n",
       "  </thead>\n",
       "  <tbody>\n",
       "    <tr>\n",
       "      <th>0</th>\n",
       "      <td>1</td>\n",
       "      <td>160</td>\n",
       "      <td>12.00</td>\n",
       "      <td>5.73</td>\n",
       "      <td>23.11</td>\n",
       "      <td>Present</td>\n",
       "      <td>49</td>\n",
       "      <td>25.30</td>\n",
       "      <td>97.20</td>\n",
       "      <td>52</td>\n",
       "      <td>1</td>\n",
       "    </tr>\n",
       "    <tr>\n",
       "      <th>2</th>\n",
       "      <td>3</td>\n",
       "      <td>118</td>\n",
       "      <td>0.08</td>\n",
       "      <td>3.48</td>\n",
       "      <td>32.28</td>\n",
       "      <td>Present</td>\n",
       "      <td>52</td>\n",
       "      <td>29.14</td>\n",
       "      <td>3.81</td>\n",
       "      <td>46</td>\n",
       "      <td>0</td>\n",
       "    </tr>\n",
       "    <tr>\n",
       "      <th>3</th>\n",
       "      <td>4</td>\n",
       "      <td>170</td>\n",
       "      <td>7.50</td>\n",
       "      <td>6.41</td>\n",
       "      <td>38.03</td>\n",
       "      <td>Present</td>\n",
       "      <td>51</td>\n",
       "      <td>31.99</td>\n",
       "      <td>24.26</td>\n",
       "      <td>58</td>\n",
       "      <td>1</td>\n",
       "    </tr>\n",
       "    <tr>\n",
       "      <th>4</th>\n",
       "      <td>5</td>\n",
       "      <td>134</td>\n",
       "      <td>13.60</td>\n",
       "      <td>3.50</td>\n",
       "      <td>27.78</td>\n",
       "      <td>Present</td>\n",
       "      <td>60</td>\n",
       "      <td>25.99</td>\n",
       "      <td>57.34</td>\n",
       "      <td>49</td>\n",
       "      <td>1</td>\n",
       "    </tr>\n",
       "    <tr>\n",
       "      <th>5</th>\n",
       "      <td>6</td>\n",
       "      <td>132</td>\n",
       "      <td>6.20</td>\n",
       "      <td>6.47</td>\n",
       "      <td>36.21</td>\n",
       "      <td>Present</td>\n",
       "      <td>62</td>\n",
       "      <td>30.77</td>\n",
       "      <td>14.14</td>\n",
       "      <td>45</td>\n",
       "      <td>0</td>\n",
       "    </tr>\n",
       "    <tr>\n",
       "      <th>...</th>\n",
       "      <td>...</td>\n",
       "      <td>...</td>\n",
       "      <td>...</td>\n",
       "      <td>...</td>\n",
       "      <td>...</td>\n",
       "      <td>...</td>\n",
       "      <td>...</td>\n",
       "      <td>...</td>\n",
       "      <td>...</td>\n",
       "      <td>...</td>\n",
       "      <td>...</td>\n",
       "    </tr>\n",
       "    <tr>\n",
       "      <th>449</th>\n",
       "      <td>451</td>\n",
       "      <td>144</td>\n",
       "      <td>4.00</td>\n",
       "      <td>5.03</td>\n",
       "      <td>25.78</td>\n",
       "      <td>Present</td>\n",
       "      <td>57</td>\n",
       "      <td>27.55</td>\n",
       "      <td>90.00</td>\n",
       "      <td>48</td>\n",
       "      <td>1</td>\n",
       "    </tr>\n",
       "    <tr>\n",
       "      <th>452</th>\n",
       "      <td>454</td>\n",
       "      <td>154</td>\n",
       "      <td>5.53</td>\n",
       "      <td>3.20</td>\n",
       "      <td>28.81</td>\n",
       "      <td>Present</td>\n",
       "      <td>61</td>\n",
       "      <td>26.15</td>\n",
       "      <td>42.79</td>\n",
       "      <td>42</td>\n",
       "      <td>0</td>\n",
       "    </tr>\n",
       "    <tr>\n",
       "      <th>453</th>\n",
       "      <td>455</td>\n",
       "      <td>124</td>\n",
       "      <td>1.60</td>\n",
       "      <td>7.22</td>\n",
       "      <td>39.68</td>\n",
       "      <td>Present</td>\n",
       "      <td>36</td>\n",
       "      <td>31.50</td>\n",
       "      <td>0.00</td>\n",
       "      <td>51</td>\n",
       "      <td>1</td>\n",
       "    </tr>\n",
       "    <tr>\n",
       "      <th>456</th>\n",
       "      <td>458</td>\n",
       "      <td>170</td>\n",
       "      <td>0.40</td>\n",
       "      <td>4.11</td>\n",
       "      <td>42.06</td>\n",
       "      <td>Present</td>\n",
       "      <td>56</td>\n",
       "      <td>33.10</td>\n",
       "      <td>2.06</td>\n",
       "      <td>57</td>\n",
       "      <td>0</td>\n",
       "    </tr>\n",
       "    <tr>\n",
       "      <th>461</th>\n",
       "      <td>463</td>\n",
       "      <td>132</td>\n",
       "      <td>0.00</td>\n",
       "      <td>4.82</td>\n",
       "      <td>33.41</td>\n",
       "      <td>Present</td>\n",
       "      <td>62</td>\n",
       "      <td>14.70</td>\n",
       "      <td>0.00</td>\n",
       "      <td>46</td>\n",
       "      <td>1</td>\n",
       "    </tr>\n",
       "  </tbody>\n",
       "</table>\n",
       "<p>192 rows × 11 columns</p>\n",
       "</div>"
      ],
      "text/plain": [
       "     row.names  sbp  tobacco   ldl  adiposity  famhist  typea  obesity  \\\n",
       "0            1  160    12.00  5.73      23.11  Present     49    25.30   \n",
       "2            3  118     0.08  3.48      32.28  Present     52    29.14   \n",
       "3            4  170     7.50  6.41      38.03  Present     51    31.99   \n",
       "4            5  134    13.60  3.50      27.78  Present     60    25.99   \n",
       "5            6  132     6.20  6.47      36.21  Present     62    30.77   \n",
       "..         ...  ...      ...   ...        ...      ...    ...      ...   \n",
       "449        451  144     4.00  5.03      25.78  Present     57    27.55   \n",
       "452        454  154     5.53  3.20      28.81  Present     61    26.15   \n",
       "453        455  124     1.60  7.22      39.68  Present     36    31.50   \n",
       "456        458  170     0.40  4.11      42.06  Present     56    33.10   \n",
       "461        463  132     0.00  4.82      33.41  Present     62    14.70   \n",
       "\n",
       "     alcohol  age  chd  \n",
       "0      97.20   52    1  \n",
       "2       3.81   46    0  \n",
       "3      24.26   58    1  \n",
       "4      57.34   49    1  \n",
       "5      14.14   45    0  \n",
       "..       ...  ...  ...  \n",
       "449    90.00   48    1  \n",
       "452    42.79   42    0  \n",
       "453     0.00   51    1  \n",
       "456     2.06   57    0  \n",
       "461     0.00   46    1  \n",
       "\n",
       "[192 rows x 11 columns]"
      ]
     },
     "execution_count": 7,
     "metadata": {},
     "output_type": "execute_result"
    }
   ],
   "source": [
    "df[df[\"famhist\"] == \"Present\"]"
   ]
  },
  {
   "cell_type": "code",
   "execution_count": 8,
   "id": "a785d737",
   "metadata": {},
   "outputs": [
    {
     "data": {
      "text/plain": [
       "4.740324675324675"
      ]
     },
     "execution_count": 8,
     "metadata": {},
     "output_type": "execute_result"
    }
   ],
   "source": [
    "df[\"ldl\"].mean()"
   ]
  },
  {
   "cell_type": "code",
   "execution_count": 9,
   "id": "baff76a7",
   "metadata": {},
   "outputs": [
    {
     "data": {
      "text/plain": [
       "25.4067316017316"
      ]
     },
     "execution_count": 9,
     "metadata": {},
     "output_type": "execute_result"
    }
   ],
   "source": [
    "df[\"adiposity\"].mean()"
   ]
  },
  {
   "cell_type": "code",
   "execution_count": 10,
   "id": "5c822683",
   "metadata": {},
   "outputs": [
    {
     "data": {
      "text/plain": [
       "78"
      ]
     },
     "execution_count": 10,
     "metadata": {},
     "output_type": "execute_result"
    }
   ],
   "source": [
    "df[\"typea\"].max()"
   ]
  },
  {
   "cell_type": "code",
   "execution_count": 11,
   "id": "04c6ed00",
   "metadata": {},
   "outputs": [
    {
     "data": {
      "text/plain": [
       "0.0"
      ]
     },
     "execution_count": 11,
     "metadata": {},
     "output_type": "execute_result"
    }
   ],
   "source": [
    "df[\"alcohol\"].min()"
   ]
  },
  {
   "cell_type": "code",
   "execution_count": 12,
   "id": "66c1052d",
   "metadata": {},
   "outputs": [
    {
     "data": {
      "text/plain": [
       "45.0"
      ]
     },
     "execution_count": 12,
     "metadata": {},
     "output_type": "execute_result"
    }
   ],
   "source": [
    "df[\"age\"].median()"
   ]
  },
  {
   "cell_type": "code",
   "execution_count": 13,
   "id": "0a1ec30a",
   "metadata": {},
   "outputs": [
    {
     "data": {
      "text/plain": [
       "0    134\n",
       "1    136\n",
       "Name: sbp, dtype: int64"
      ]
     },
     "execution_count": 13,
     "metadata": {},
     "output_type": "execute_result"
    }
   ],
   "source": [
    "df[\"sbp\"].mode()"
   ]
  },
  {
   "cell_type": "code",
   "execution_count": 14,
   "id": "e8606ab1",
   "metadata": {},
   "outputs": [
    {
     "data": {
      "text/plain": [
       "array([  1,   2,   3,   4,   5,   6,   7,   8,   9,  10,  11,  12,  13,\n",
       "        14,  15,  16,  17,  18,  19,  20,  21,  22,  23,  24,  25,  26,\n",
       "        27,  28,  29,  30,  31,  32,  33,  34,  35,  36,  37,  38,  39,\n",
       "        40,  41,  42,  43,  44,  45,  46,  47,  48,  49,  50,  51,  52,\n",
       "        53,  54,  55,  56,  57,  58,  59,  60,  61,  62,  63,  64,  65,\n",
       "        66,  67,  68,  69,  70,  71,  72,  73,  74,  75,  76,  77,  78,\n",
       "        79,  80,  81,  82,  83,  84,  85,  86,  87,  88,  89,  90,  91,\n",
       "        92,  93,  94,  95,  96,  97,  98,  99, 100, 101, 102, 103, 104,\n",
       "       105, 106, 107, 108, 109, 110, 111, 112, 113, 114, 115, 116, 117,\n",
       "       118, 119, 120, 121, 122, 123, 124, 125, 126, 127, 128, 129, 130,\n",
       "       131, 132, 133, 134, 135, 136, 137, 138, 139, 140, 141, 142, 143,\n",
       "       144, 145, 146, 147, 148, 149, 150, 151, 152, 153, 154, 155, 156,\n",
       "       157, 158, 159, 160, 161, 162, 163, 164, 165, 166, 167, 168, 169,\n",
       "       170, 171, 172, 173, 174, 175, 176, 177, 178, 179, 180, 181, 182,\n",
       "       183, 184, 185, 186, 187, 188, 189, 190, 191, 192, 193, 194, 195,\n",
       "       196, 197, 198, 199, 200, 201, 202, 203, 204, 205, 206, 207, 208,\n",
       "       209, 210, 211, 212, 213, 214, 215, 216, 217, 218, 219, 220, 221,\n",
       "       222, 223, 224, 225, 226, 227, 228, 229, 230, 231, 232, 233, 234,\n",
       "       235, 236, 237, 238, 239, 240, 241, 242, 243, 244, 245, 246, 247,\n",
       "       248, 249, 250, 251, 252, 253, 254, 255, 256, 257, 258, 259, 260,\n",
       "       261, 263, 264, 265, 266, 267, 268, 269, 270, 271, 272, 273, 274,\n",
       "       275, 276, 277, 278, 279, 280, 281, 282, 283, 284, 285, 286, 287,\n",
       "       288, 289, 290, 291, 292, 293, 294, 295, 296, 297, 298, 299, 300,\n",
       "       301, 302, 303, 304, 305, 306, 307, 308, 309, 310, 311, 312, 313,\n",
       "       314, 315, 316, 317, 318, 319, 320, 321, 322, 323, 324, 325, 326,\n",
       "       327, 328, 329, 330, 331, 332, 333, 334, 335, 336, 337, 338, 339,\n",
       "       340, 341, 342, 343, 344, 345, 346, 347, 348, 349, 350, 351, 352,\n",
       "       353, 354, 355, 356, 357, 358, 359, 360, 361, 362, 363, 364, 365,\n",
       "       366, 367, 368, 369, 370, 371, 372, 373, 374, 375, 376, 377, 378,\n",
       "       379, 380, 381, 382, 383, 384, 385, 386, 387, 388, 389, 390, 391,\n",
       "       392, 393, 394, 395, 396, 397, 398, 399, 400, 401, 402, 403, 404,\n",
       "       405, 406, 407, 408, 409, 410, 411, 412, 413, 414, 415, 416, 417,\n",
       "       418, 419, 420, 421, 422, 423, 424, 425, 426, 427, 428, 429, 430,\n",
       "       431, 432, 433, 434, 435, 436, 437, 438, 439, 440, 441, 442, 443,\n",
       "       444, 445, 446, 447, 448, 449, 450, 451, 452, 453, 454, 455, 456,\n",
       "       457, 458, 459, 460, 461, 462, 463], dtype=int64)"
      ]
     },
     "execution_count": 14,
     "metadata": {},
     "output_type": "execute_result"
    }
   ],
   "source": [
    "df[\"row.names\"].unique()"
   ]
  },
  {
   "cell_type": "code",
   "execution_count": 15,
   "id": "b01def80",
   "metadata": {},
   "outputs": [
    {
     "data": {
      "text/plain": [
       "array([1, 0], dtype=int64)"
      ]
     },
     "execution_count": 15,
     "metadata": {},
     "output_type": "execute_result"
    }
   ],
   "source": [
    "df[\"chd\"].unique()"
   ]
  },
  {
   "cell_type": "code",
   "execution_count": 16,
   "id": "e0233d83",
   "metadata": {},
   "outputs": [
    {
     "name": "stdout",
     "output_type": "stream",
     "text": [
      "<class 'pandas.core.frame.DataFrame'>\n",
      "RangeIndex: 462 entries, 0 to 461\n",
      "Data columns (total 11 columns):\n",
      " #   Column     Non-Null Count  Dtype  \n",
      "---  ------     --------------  -----  \n",
      " 0   row.names  462 non-null    int64  \n",
      " 1   sbp        462 non-null    int64  \n",
      " 2   tobacco    462 non-null    float64\n",
      " 3   ldl        462 non-null    float64\n",
      " 4   adiposity  462 non-null    float64\n",
      " 5   famhist    462 non-null    object \n",
      " 6   typea      462 non-null    int64  \n",
      " 7   obesity    462 non-null    float64\n",
      " 8   alcohol    462 non-null    float64\n",
      " 9   age        462 non-null    int64  \n",
      " 10  chd        462 non-null    int64  \n",
      "dtypes: float64(5), int64(5), object(1)\n",
      "memory usage: 39.8+ KB\n"
     ]
    }
   ],
   "source": [
    "df.info()"
   ]
  },
  {
   "cell_type": "code",
   "execution_count": 17,
   "id": "0e3ec52b",
   "metadata": {},
   "outputs": [
    {
     "data": {
      "text/plain": [
       "<bound method NDFrame.get of      row.names  sbp  tobacco    ldl  adiposity  famhist  typea  obesity  \\\n",
       "0            1  160    12.00   5.73      23.11  Present     49    25.30   \n",
       "1            2  144     0.01   4.41      28.61   Absent     55    28.87   \n",
       "2            3  118     0.08   3.48      32.28  Present     52    29.14   \n",
       "3            4  170     7.50   6.41      38.03  Present     51    31.99   \n",
       "4            5  134    13.60   3.50      27.78  Present     60    25.99   \n",
       "..         ...  ...      ...    ...        ...      ...    ...      ...   \n",
       "457        459  214     0.40   5.98      31.72   Absent     64    28.45   \n",
       "458        460  182     4.20   4.41      32.10   Absent     52    28.61   \n",
       "459        461  108     3.00   1.59      15.23   Absent     40    20.09   \n",
       "460        462  118     5.40  11.61      30.79   Absent     64    27.35   \n",
       "461        463  132     0.00   4.82      33.41  Present     62    14.70   \n",
       "\n",
       "     alcohol  age  chd  \n",
       "0      97.20   52    1  \n",
       "1       2.06   63    1  \n",
       "2       3.81   46    0  \n",
       "3      24.26   58    1  \n",
       "4      57.34   49    1  \n",
       "..       ...  ...  ...  \n",
       "457     0.00   58    0  \n",
       "458    18.72   52    1  \n",
       "459    26.64   55    0  \n",
       "460    23.97   40    0  \n",
       "461     0.00   46    1  \n",
       "\n",
       "[462 rows x 11 columns]>"
      ]
     },
     "execution_count": 17,
     "metadata": {},
     "output_type": "execute_result"
    }
   ],
   "source": [
    "df.get"
   ]
  },
  {
   "cell_type": "markdown",
   "id": "60ff0587",
   "metadata": {},
   "source": [
    "### How many records are present the dataset? Print the metadata information of the dataset . "
   ]
  },
  {
   "cell_type": "code",
   "execution_count": 18,
   "id": "482b798f",
   "metadata": {},
   "outputs": [
    {
     "data": {
      "text/plain": [
       "(462, 11)"
      ]
     },
     "execution_count": 18,
     "metadata": {},
     "output_type": "execute_result"
    }
   ],
   "source": [
    "df.shape"
   ]
  },
  {
   "cell_type": "markdown",
   "id": "e9d3c1d2",
   "metadata": {},
   "source": [
    "    In the above health-dataset there are 462 records and 11 columns present."
   ]
  },
  {
   "cell_type": "code",
   "execution_count": 19,
   "id": "28b2a3d4",
   "metadata": {},
   "outputs": [
    {
     "data": {
      "text/plain": [
       "famhist  chd\n",
       "Absent   0      206\n",
       "         1       64\n",
       "Present  0       96\n",
       "         1       96\n",
       "Name: chd, dtype: int64"
      ]
     },
     "execution_count": 19,
     "metadata": {},
     "output_type": "execute_result"
    }
   ],
   "source": [
    "df.groupby('famhist')['chd'].value_counts()"
   ]
  },
  {
   "cell_type": "markdown",
   "id": "2310e9c2",
   "metadata": {},
   "source": [
    "### Draw a BarPlot to show the number of persons having CHD or not in comparision to those having family history of the disease or not ."
   ]
  },
  {
   "cell_type": "code",
   "execution_count": 20,
   "id": "3fc4c96e",
   "metadata": {},
   "outputs": [
    {
     "data": {
      "text/plain": [
       "<AxesSubplot:xlabel='famhist', ylabel='count'>"
      ]
     },
     "execution_count": 20,
     "metadata": {},
     "output_type": "execute_result"
    },
    {
     "data": {
      "image/png": "[encoded data removed]",
      "text/plain": [
       "<Figure size 432x288 with 1 Axes>"
      ]
     },
     "metadata": {
      "needs_background": "light"
     },
     "output_type": "display_data"
    }
   ],
   "source": [
    "sns.countplot(x = 'famhist',data = df,hue = 'chd')"
   ]
  },
  {
   "cell_type": "markdown",
   "id": "3dd90e72",
   "metadata": {},
   "source": [
    "### Does age have any correlation with sbp ? Choose appropriate plot to show the relationship ."
   ]
  },
  {
   "cell_type": "markdown",
   "id": "b2636365",
   "metadata": {},
   "source": [
    "    There is a positive correlation between age and the sbp "
   ]
  },
  {
   "cell_type": "code",
   "execution_count": 21,
   "id": "4ff69f5e",
   "metadata": {},
   "outputs": [
    {
     "data": {
      "text/plain": [
       "Text(0, 0.5, 'sbp')"
      ]
     },
     "execution_count": 21,
     "metadata": {},
     "output_type": "execute_result"
    },
    {
     "data": {
      "image/png": "[encoded data removed]",
      "text/plain": [
       "<Figure size 432x288 with 1 Axes>"
      ]
     },
     "metadata": {
      "needs_background": "light"
     },
     "output_type": "display_data"
    }
   ],
   "source": [
    "plt.scatter(x = 'age',y = 'sbp',data = df)\n",
    "plt.xlabel('age')\n",
    "plt.ylabel('sbp')"
   ]
  },
  {
   "cell_type": "markdown",
   "id": "4e2c56f7",
   "metadata": {},
   "source": [
    "    There is no correlation between the age and sbp"
   ]
  },
  {
   "cell_type": "markdown",
   "id": "cb99304e",
   "metadata": {},
   "source": [
    "### Compare the distribution of tobacco consumption for persons having CHD and not having CHD ."
   ]
  },
  {
   "cell_type": "code",
   "execution_count": 26,
   "id": "3a768478",
   "metadata": {},
   "outputs": [
    {
     "data": {
      "text/plain": [
       "<matplotlib.legend.Legend at 0x183fc35d810>"
      ]
     },
     "execution_count": 26,
     "metadata": {},
     "output_type": "execute_result"
    },
    {
     "data": {
      "image/png": "[encoded data removed]",
      "text/plain": [
       "<Figure size 576x432 with 1 Axes>"
      ]
     },
     "metadata": {
      "needs_background": "light"
     },
     "output_type": "display_data"
    }
   ],
   "source": [
    "df1=df[df[\"chd\"]==1][\"tobacco\"]\n",
    "df2=df[df[\"chd\"]==0][\"tobacco\"]\n",
    "fig=plt.figure(figsize=(8,6))\n",
    "axes1=fig.add_subplot(1,1,1)\n",
    "axes1.hist([df1,df2],color=[\"darkcyan\",\"darkslategrey\"],label=[\"persons having CHD\",\"persons not having CHD\"],bins=5)\n",
    "axes1.set_title(\"distribution of tobacco consumption for persons having CHD and not having CHD. \")\n",
    "axes1.legend()"
   ]
  },
  {
   "cell_type": "markdown",
   "id": "b2029017",
   "metadata": {},
   "source": [
    "    Compare the distribution of tobacco consumption for persons having CHD and not having CHD."
   ]
  },
  {
   "cell_type": "markdown",
   "id": "9e2dd126",
   "metadata": {},
   "source": [
    "### Derive a new column called agegroup from age column where persons falling in different age ranges are categorized as below."
   ]
  },
  {
   "cell_type": "markdown",
   "id": "37f0b89e",
   "metadata": {},
   "source": [
    "    (0 - 15) years : young\n",
    "    (15 - 35) years : adult\n",
    "    (35 - 55) years : mid    \n",
    "    (55 - ) years : old"
   ]
  },
  {
   "cell_type": "code",
   "execution_count": 28,
   "id": "b2581d83",
   "metadata": {},
   "outputs": [],
   "source": [
    "def encode_(age):\n",
    "    if age <= 15:\n",
    "        return \"young\";\n",
    "    elif(15<age<=35):\n",
    "        return \"adult\";\n",
    "    elif(53<age<=55):\n",
    "        return \"mid\"\n",
    "    else:\n",
    "        return \"old\""
   ]
  },
  {
   "cell_type": "code",
   "execution_count": 29,
   "id": "05161ee2",
   "metadata": {},
   "outputs": [],
   "source": [
    "df[\"agegroup\"]=df['age'].apply(encode_)"
   ]
  },
  {
   "cell_type": "code",
   "execution_count": 30,
   "id": "bff895d5",
   "metadata": {},
   "outputs": [
    {
     "data": {
      "text/html": [
       "<div>\n",
       "<style scoped>\n",
       "    .dataframe tbody tr th:only-of-type {\n",
       "        vertical-align: middle;\n",
       "    }\n",
       "\n",
       "    .dataframe tbody tr th {\n",
       "        vertical-align: top;\n",
       "    }\n",
       "\n",
       "    .dataframe thead th {\n",
       "        text-align: right;\n",
       "    }\n",
       "</style>\n",
       "<table border=\"1\" class=\"dataframe\">\n",
       "  <thead>\n",
       "    <tr style=\"text-align: right;\">\n",
       "      <th></th>\n",
       "      <th>row.names</th>\n",
       "      <th>sbp</th>\n",
       "      <th>tobacco</th>\n",
       "      <th>ldl</th>\n",
       "      <th>adiposity</th>\n",
       "      <th>famhist</th>\n",
       "      <th>typea</th>\n",
       "      <th>obesity</th>\n",
       "      <th>alcohol</th>\n",
       "      <th>age</th>\n",
       "      <th>chd</th>\n",
       "      <th>agegroup</th>\n",
       "    </tr>\n",
       "  </thead>\n",
       "  <tbody>\n",
       "    <tr>\n",
       "      <th>0</th>\n",
       "      <td>1</td>\n",
       "      <td>160</td>\n",
       "      <td>12.00</td>\n",
       "      <td>5.73</td>\n",
       "      <td>23.11</td>\n",
       "      <td>Present</td>\n",
       "      <td>49</td>\n",
       "      <td>25.30</td>\n",
       "      <td>97.20</td>\n",
       "      <td>52</td>\n",
       "      <td>1</td>\n",
       "      <td>old</td>\n",
       "    </tr>\n",
       "    <tr>\n",
       "      <th>1</th>\n",
       "      <td>2</td>\n",
       "      <td>144</td>\n",
       "      <td>0.01</td>\n",
       "      <td>4.41</td>\n",
       "      <td>28.61</td>\n",
       "      <td>Absent</td>\n",
       "      <td>55</td>\n",
       "      <td>28.87</td>\n",
       "      <td>2.06</td>\n",
       "      <td>63</td>\n",
       "      <td>1</td>\n",
       "      <td>old</td>\n",
       "    </tr>\n",
       "    <tr>\n",
       "      <th>2</th>\n",
       "      <td>3</td>\n",
       "      <td>118</td>\n",
       "      <td>0.08</td>\n",
       "      <td>3.48</td>\n",
       "      <td>32.28</td>\n",
       "      <td>Present</td>\n",
       "      <td>52</td>\n",
       "      <td>29.14</td>\n",
       "      <td>3.81</td>\n",
       "      <td>46</td>\n",
       "      <td>0</td>\n",
       "      <td>old</td>\n",
       "    </tr>\n",
       "    <tr>\n",
       "      <th>3</th>\n",
       "      <td>4</td>\n",
       "      <td>170</td>\n",
       "      <td>7.50</td>\n",
       "      <td>6.41</td>\n",
       "      <td>38.03</td>\n",
       "      <td>Present</td>\n",
       "      <td>51</td>\n",
       "      <td>31.99</td>\n",
       "      <td>24.26</td>\n",
       "      <td>58</td>\n",
       "      <td>1</td>\n",
       "      <td>old</td>\n",
       "    </tr>\n",
       "    <tr>\n",
       "      <th>4</th>\n",
       "      <td>5</td>\n",
       "      <td>134</td>\n",
       "      <td>13.60</td>\n",
       "      <td>3.50</td>\n",
       "      <td>27.78</td>\n",
       "      <td>Present</td>\n",
       "      <td>60</td>\n",
       "      <td>25.99</td>\n",
       "      <td>57.34</td>\n",
       "      <td>49</td>\n",
       "      <td>1</td>\n",
       "      <td>old</td>\n",
       "    </tr>\n",
       "    <tr>\n",
       "      <th>...</th>\n",
       "      <td>...</td>\n",
       "      <td>...</td>\n",
       "      <td>...</td>\n",
       "      <td>...</td>\n",
       "      <td>...</td>\n",
       "      <td>...</td>\n",
       "      <td>...</td>\n",
       "      <td>...</td>\n",
       "      <td>...</td>\n",
       "      <td>...</td>\n",
       "      <td>...</td>\n",
       "      <td>...</td>\n",
       "    </tr>\n",
       "    <tr>\n",
       "      <th>457</th>\n",
       "      <td>459</td>\n",
       "      <td>214</td>\n",
       "      <td>0.40</td>\n",
       "      <td>5.98</td>\n",
       "      <td>31.72</td>\n",
       "      <td>Absent</td>\n",
       "      <td>64</td>\n",
       "      <td>28.45</td>\n",
       "      <td>0.00</td>\n",
       "      <td>58</td>\n",
       "      <td>0</td>\n",
       "      <td>old</td>\n",
       "    </tr>\n",
       "    <tr>\n",
       "      <th>458</th>\n",
       "      <td>460</td>\n",
       "      <td>182</td>\n",
       "      <td>4.20</td>\n",
       "      <td>4.41</td>\n",
       "      <td>32.10</td>\n",
       "      <td>Absent</td>\n",
       "      <td>52</td>\n",
       "      <td>28.61</td>\n",
       "      <td>18.72</td>\n",
       "      <td>52</td>\n",
       "      <td>1</td>\n",
       "      <td>old</td>\n",
       "    </tr>\n",
       "    <tr>\n",
       "      <th>459</th>\n",
       "      <td>461</td>\n",
       "      <td>108</td>\n",
       "      <td>3.00</td>\n",
       "      <td>1.59</td>\n",
       "      <td>15.23</td>\n",
       "      <td>Absent</td>\n",
       "      <td>40</td>\n",
       "      <td>20.09</td>\n",
       "      <td>26.64</td>\n",
       "      <td>55</td>\n",
       "      <td>0</td>\n",
       "      <td>mid</td>\n",
       "    </tr>\n",
       "    <tr>\n",
       "      <th>460</th>\n",
       "      <td>462</td>\n",
       "      <td>118</td>\n",
       "      <td>5.40</td>\n",
       "      <td>11.61</td>\n",
       "      <td>30.79</td>\n",
       "      <td>Absent</td>\n",
       "      <td>64</td>\n",
       "      <td>27.35</td>\n",
       "      <td>23.97</td>\n",
       "      <td>40</td>\n",
       "      <td>0</td>\n",
       "      <td>old</td>\n",
       "    </tr>\n",
       "    <tr>\n",
       "      <th>461</th>\n",
       "      <td>463</td>\n",
       "      <td>132</td>\n",
       "      <td>0.00</td>\n",
       "      <td>4.82</td>\n",
       "      <td>33.41</td>\n",
       "      <td>Present</td>\n",
       "      <td>62</td>\n",
       "      <td>14.70</td>\n",
       "      <td>0.00</td>\n",
       "      <td>46</td>\n",
       "      <td>1</td>\n",
       "      <td>old</td>\n",
       "    </tr>\n",
       "  </tbody>\n",
       "</table>\n",
       "<p>462 rows × 12 columns</p>\n",
       "</div>"
      ],
      "text/plain": [
       "     row.names  sbp  tobacco    ldl  adiposity  famhist  typea  obesity  \\\n",
       "0            1  160    12.00   5.73      23.11  Present     49    25.30   \n",
       "1            2  144     0.01   4.41      28.61   Absent     55    28.87   \n",
       "2            3  118     0.08   3.48      32.28  Present     52    29.14   \n",
       "3            4  170     7.50   6.41      38.03  Present     51    31.99   \n",
       "4            5  134    13.60   3.50      27.78  Present     60    25.99   \n",
       "..         ...  ...      ...    ...        ...      ...    ...      ...   \n",
       "457        459  214     0.40   5.98      31.72   Absent     64    28.45   \n",
       "458        460  182     4.20   4.41      32.10   Absent     52    28.61   \n",
       "459        461  108     3.00   1.59      15.23   Absent     40    20.09   \n",
       "460        462  118     5.40  11.61      30.79   Absent     64    27.35   \n",
       "461        463  132     0.00   4.82      33.41  Present     62    14.70   \n",
       "\n",
       "     alcohol  age  chd agegroup  \n",
       "0      97.20   52    1      old  \n",
       "1       2.06   63    1      old  \n",
       "2       3.81   46    0      old  \n",
       "3      24.26   58    1      old  \n",
       "4      57.34   49    1      old  \n",
       "..       ...  ...  ...      ...  \n",
       "457     0.00   58    0      old  \n",
       "458    18.72   52    1      old  \n",
       "459    26.64   55    0      mid  \n",
       "460    23.97   40    0      old  \n",
       "461     0.00   46    1      old  \n",
       "\n",
       "[462 rows x 12 columns]"
      ]
     },
     "execution_count": 30,
     "metadata": {},
     "output_type": "execute_result"
    }
   ],
   "source": [
    "df"
   ]
  },
  {
   "cell_type": "markdown",
   "id": "79a74087",
   "metadata": {},
   "source": [
    "### Find out the number of CHD cases in different age categories.Draw a barplot and sort them in the order of age groups."
   ]
  },
  {
   "cell_type": "code",
   "execution_count": 31,
   "id": "05d275d6",
   "metadata": {},
   "outputs": [
    {
     "data": {
      "text/plain": [
       "agegroup  chd\n",
       "adult     1       18\n",
       "mid       1       16\n",
       "old       1      126\n",
       "Name: chd, dtype: int64"
      ]
     },
     "execution_count": 31,
     "metadata": {},
     "output_type": "execute_result"
    }
   ],
   "source": [
    "df[df['chd'] == 1].groupby('agegroup')['chd'].value_counts()"
   ]
  },
  {
   "cell_type": "markdown",
   "id": "b3f5e9c2",
   "metadata": {},
   "source": [
    "### Draw a boxplot to compare distributions of ldl for different age groups"
   ]
  },
  {
   "cell_type": "code",
   "execution_count": 32,
   "id": "8f6f1518",
   "metadata": {},
   "outputs": [
    {
     "data": {
      "text/plain": [
       "<AxesSubplot:xlabel='agegroup', ylabel='ldl'>"
      ]
     },
     "execution_count": 32,
     "metadata": {},
     "output_type": "execute_result"
    },
    {
     "data": {
      "image/png": "[encoded data removed]",
      "text/plain": [
       "<Figure size 432x288 with 1 Axes>"
      ]
     },
     "metadata": {
      "needs_background": "light"
     },
     "output_type": "display_data"
    }
   ],
   "source": [
    "sns.boxplot(y = df['ldl'], x = df['agegroup'])"
   ]
  }
 ],
 "metadata": {
  "kernelspec": {
   "display_name": "Python 3 (ipykernel)",
   "language": "python",
   "name": "python3"
  },
  "language_info": {
   "codemirror_mode": {
    "name": "ipython",
    "version": 3
   },
   "file_extension": ".py",
   "mimetype": "text/x-python",
   "name": "python",
   "nbconvert_exporter": "python",
   "pygments_lexer": "ipython3",
   "version": "3.10.1"
  }
 },
 "nbformat": 4,
 "nbformat_minor": 5
}
